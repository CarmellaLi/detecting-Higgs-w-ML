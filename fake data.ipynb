{
 "cells": [
  {
   "cell_type": "code",
   "execution_count": 17,
   "metadata": {},
   "outputs": [],
   "source": [
    "import numpy as np\n",
    "import matplotlib.pyplot as plt"
   ]
  },
  {
   "cell_type": "code",
   "execution_count": 121,
   "metadata": {},
   "outputs": [],
   "source": [
    "def getbJetTrack(mu = 0, sig = 0.5, decay=3, fracDecay=0.05, fracFlat=0.05):\n",
    "    r = numpy.random.rand()\n",
    "    if (r < fracDecay):\n",
    "        return numpy.random.exponential(decay)+numpy.random.normal(0,0.25)\n",
    "    elif (r < (fracDecay+fracFlat)):\n",
    "        return 6 * numpy.random.random_sample()-3 #get flat -3 to 2\n",
    "    else:\n",
    "        return numpy.random.normal(mu,sig)        "
   ]
  },
  {
   "cell_type": "code",
   "execution_count": 123,
   "metadata": {},
   "outputs": [],
   "source": [
    "def getLFTrack(mu = 0, sig = 0.5, fracFlat=0.05):\n",
    "    r = numpy.random.rand()\n",
    "    if( r < fracFlat):\n",
    "        return 6 * numpy.random.random_sample()-3\n",
    "    else:        \n",
    "        return numpy.random.normal(mu,sig)\n"
   ]
  },
  {
   "cell_type": "code",
   "execution_count": 124,
   "metadata": {},
   "outputs": [],
   "source": [
    "def getbJetData(NumData, fracDecay=0.05): #get list of NumData number of elements\n",
    "    DataSet=[]\n",
    "    for i in range (NumData):\n",
    "        n = numpy.random.poisson(4)\n",
    "        tracks=[]\n",
    "        for j in range (n):\n",
    "            tracks.append(getbJetTrack(fracDecay=fracDecay))\n",
    "        DataSet.append(np.array(tracks))\n",
    "    return np.array(DataSet)"
   ]
  },
  {
   "cell_type": "code",
   "execution_count": 125,
   "metadata": {},
   "outputs": [],
   "source": [
    "def getLFJetData(NumData): # get list of NumData number of elements\n",
    "    DataSet=[]\n",
    "    for i in range (NumData):\n",
    "        n = numpy.random.poisson(2)\n",
    "        tracks=[]\n",
    "        for j in range (n):\n",
    "            tracks.append(getLFTrack())\n",
    "        DataSet.append(tracks)\n",
    "    return DataSet"
   ]
  },
  {
   "cell_type": "code",
   "execution_count": 126,
   "metadata": {},
   "outputs": [],
   "source": [
    "def DataSameLen(listOfLists): # add 0 to the end of stort list elements\n",
    "    maxLen=0\n",
    "    for i in listOfLists:\n",
    "        if len(i)>maxLen:\n",
    "            maxLen=len(i)\n",
    "    for i in listOfLists:\n",
    "        if len(i)<maxLen:\n",
    "            while(len(i)<maxLen):\n",
    "                i.append(0)\n",
    "    return listOfLists\n"
   ]
  },
  {
   "cell_type": "code",
   "execution_count": 127,
   "metadata": {},
   "outputs": [],
   "source": [
    "def getData(NumData): #combines B jet data and LF jet data, NumData: number of data in each, adds indicator at the front\n",
    "    bj=getbJetData(NumData) #only train uses this\n",
    "    j=0\n",
    "    for i in bj:\n",
    "        bj[j] = [True] + i\n",
    "        j+=1\n",
    "    lfj=getLFJetData(NumData)\n",
    "    k=0\n",
    "    for i in lfj:\n",
    "        lfj[k] = [False] + i\n",
    "        k+=1\n",
    "    for j in lfj:\n",
    "        bj.append(j)\n",
    "    return DataSameLen(bj)"
   ]
  },
  {
   "cell_type": "code",
   "execution_count": 128,
   "metadata": {},
   "outputs": [],
   "source": [
    "def dist(elem_train, elem_test): \n",
    "    d=0.0\n",
    "    for i in range(1, len(elem_train)):\n",
    "        d+=(elem_train[i]-elem_test[i-1])**2\n",
    "    return numpy.sqrt(d)\n",
    "\n",
    "def getNbors(train, elem_test, k):\n",
    "    distance=[]\n",
    "    for elem in train:\n",
    "        distance.append([elem,dist(elem,elem_test)])\n",
    "    distance.sort(key = lambda ls : ls[1])\n",
    "    nbors=[]\n",
    "    for i in range(k):\n",
    "        nbors.append(distance[i][0])\n",
    "    return nbors\n",
    "\n",
    "def BjetProb(train, elem_test, k):\n",
    "    neigbors=getNbors(train,elem_test,k)\n",
    "    numTrue=0\n",
    "    for i in neigbors:\n",
    "        if (i[0]==True):\n",
    "            numTrue+=1\n",
    "    return float(numTrue)/float(len(neigbors))"
   ]
  },
  {
   "cell_type": "markdown",
   "metadata": {},
   "source": [
    "# Plot the Data"
   ]
  },
  {
   "cell_type": "code",
   "execution_count": 132,
   "metadata": {},
   "outputs": [],
   "source": [
    "def flatten(inData):\n",
    "    dataFlat = np.array([])\n",
    "    for jet in inData:\n",
    "        dataFlat = np.append(dataFlat,jet)\n",
    "    return dataFlat"
   ]
  },
  {
   "cell_type": "code",
   "execution_count": 133,
   "metadata": {},
   "outputs": [
    {
     "name": "stderr",
     "output_type": "stream",
     "text": [
      "<ipython-input-124-f66e66142e37>:9: VisibleDeprecationWarning: Creating an ndarray from ragged nested sequences (which is a list-or-tuple of lists-or-tuples-or ndarrays with different lengths or shapes) is deprecated. If you meant to do this, you must specify 'dtype=object' when creating the ndarray\n",
      "  return np.array(DataSet)\n"
     ]
    },
    {
     "name": "stdout",
     "output_type": "stream",
     "text": [
      "39885 vs 20026\n"
     ]
    }
   ],
   "source": [
    "nEvents = 10000\n",
    "\n",
    "bj=getbJetData(nEvents, fracDecay=0.2) #only train uses this\n",
    "bjFlat = flatten(bj)\n",
    "\n",
    "lf=getLFJetData(nEvents)\n",
    "lfFlat = flatten(lf)\n",
    "\n",
    "print(f\"{len(bjFlat)} vs {len(lfFlat)}\")"
   ]
  },
  {
   "cell_type": "code",
   "execution_count": 134,
   "metadata": {},
   "outputs": [
    {
     "data": {
      "image/png": "[encoded data removed]",
      "text/plain": [
       "<Figure size 432x288 with 1 Axes>"
      ]
     },
     "metadata": {
      "needs_background": "light"
     },
     "output_type": "display_data"
    }
   ],
   "source": [
    "bins = np.linspace(-3,3,100)\n",
    "plt.hist(bjFlat,bins=bins)\n",
    "plt.hist(lfFlat,bins=bins,histtype=\"step\")\n",
    "\n",
    "plt.yscale(\"log\")\n",
    "plt.show()"
   ]
  },
  {
   "cell_type": "code",
   "execution_count": 40,
   "metadata": {},
   "outputs": [
    {
     "name": "stderr",
     "output_type": "stream",
     "text": [
      "<ipython-input-33-9f0536908947>:9: VisibleDeprecationWarning: Creating an ndarray from ragged nested sequences (which is a list-or-tuple of lists-or-tuples-or ndarrays with different lengths or shapes) is deprecated. If you meant to do this, you must specify 'dtype=object' when creating the ndarray\n",
      "  return np.array(DataSet)\n"
     ]
    },
    {
     "ename": "AttributeError",
     "evalue": "'numpy.ndarray' object has no attribute 'append'",
     "output_type": "error",
     "traceback": [
      "\u001b[0;31m---------------------------------------------------------------------------\u001b[0m",
      "\u001b[0;31mAttributeError\u001b[0m                            Traceback (most recent call last)",
      "\u001b[0;32m<ipython-input-40-7a7243209e11>\u001b[0m in \u001b[0;36m<module>\u001b[0;34m\u001b[0m\n\u001b[0;32m----> 1\u001b[0;31m \u001b[0mtrain\u001b[0m \u001b[0;34m=\u001b[0m \u001b[0mgetData\u001b[0m\u001b[0;34m(\u001b[0m\u001b[0;36m1000\u001b[0m\u001b[0;34m)\u001b[0m\u001b[0;34m\u001b[0m\u001b[0;34m\u001b[0m\u001b[0m\n\u001b[0m\u001b[1;32m      2\u001b[0m \u001b[0mtest\u001b[0m \u001b[0;34m=\u001b[0m \u001b[0;34m[\u001b[0m\u001b[0;34m]\u001b[0m\u001b[0;34m\u001b[0m\u001b[0;34m\u001b[0m\u001b[0m\n\u001b[1;32m      3\u001b[0m \u001b[0mtest\u001b[0m\u001b[0;34m=\u001b[0m\u001b[0mgetbJetData\u001b[0m\u001b[0;34m(\u001b[0m\u001b[0;36m1000\u001b[0m\u001b[0;34m)\u001b[0m\u001b[0;34m\u001b[0m\u001b[0;34m\u001b[0m\u001b[0m\n\u001b[1;32m      4\u001b[0m \u001b[0mxs\u001b[0m\u001b[0;34m=\u001b[0m\u001b[0mgetLFJetData\u001b[0m\u001b[0;34m(\u001b[0m\u001b[0;36m1000\u001b[0m\u001b[0;34m)\u001b[0m\u001b[0;34m\u001b[0m\u001b[0;34m\u001b[0m\u001b[0m\n\u001b[1;32m      5\u001b[0m \u001b[0;32mfor\u001b[0m \u001b[0mi\u001b[0m \u001b[0;32min\u001b[0m \u001b[0mrange\u001b[0m \u001b[0;34m(\u001b[0m\u001b[0;36m1000\u001b[0m\u001b[0;34m)\u001b[0m\u001b[0;34m:\u001b[0m\u001b[0;34m\u001b[0m\u001b[0;34m\u001b[0m\u001b[0m\n",
      "\u001b[0;32m<ipython-input-36-20a28b38a830>\u001b[0m in \u001b[0;36mgetData\u001b[0;34m(NumData)\u001b[0m\n\u001b[1;32m     11\u001b[0m         \u001b[0mk\u001b[0m\u001b[0;34m+=\u001b[0m\u001b[0;36m1\u001b[0m\u001b[0;34m\u001b[0m\u001b[0;34m\u001b[0m\u001b[0m\n\u001b[1;32m     12\u001b[0m     \u001b[0;32mfor\u001b[0m \u001b[0mj\u001b[0m \u001b[0;32min\u001b[0m \u001b[0mlfj\u001b[0m\u001b[0;34m:\u001b[0m\u001b[0;34m\u001b[0m\u001b[0;34m\u001b[0m\u001b[0m\n\u001b[0;32m---> 13\u001b[0;31m         \u001b[0mbj\u001b[0m\u001b[0;34m.\u001b[0m\u001b[0mappend\u001b[0m\u001b[0;34m(\u001b[0m\u001b[0mj\u001b[0m\u001b[0;34m)\u001b[0m\u001b[0;34m\u001b[0m\u001b[0;34m\u001b[0m\u001b[0m\n\u001b[0m\u001b[1;32m     14\u001b[0m     \u001b[0;32mreturn\u001b[0m \u001b[0mDataSameLen\u001b[0m\u001b[0;34m(\u001b[0m\u001b[0mbj\u001b[0m\u001b[0;34m)\u001b[0m\u001b[0;34m\u001b[0m\u001b[0;34m\u001b[0m\u001b[0m\n",
      "\u001b[0;31mAttributeError\u001b[0m: 'numpy.ndarray' object has no attribute 'append'"
     ]
    }
   ],
   "source": [
    "train = getData(1000)\n",
    "test = []\n",
    "test=getbJetData(1000)\n",
    "xs=getLFJetData(1000)\n",
    "for i in range (1000):\n",
    "    test.append(xs[i])\n",
    "DataSameLen(test)\n",
    "DataSameLen(train)\n",
    "#print(\"lenTest:\",len(test[0]))\n",
    "#print(test)\n",
    "#print(\"lenTrain:\",len(train[0]))\n",
    "#print(train)\n",
    "if (len(test[0])<len(train[0])-1):\n",
    "    for i in test:\n",
    "        while(len(i)<len(train[0])-1):\n",
    "            i.append(0)\n",
    "#print(test)\n",
    "prob=[]\n",
    "for i in test:\n",
    "    prob.append(BjetProb(train,i,10))\n",
    "prob\n",
    "plt.hist(prob, density=True, bins=50)"
   ]
  },
  {
   "cell_type": "code",
   "execution_count": null,
   "metadata": {},
   "outputs": [],
   "source": []
  }
 ],
 "metadata": {
  "kernelspec": {
   "display_name": "Python 3",
   "language": "python",
   "name": "python3"
  },
  "language_info": {
   "codemirror_mode": {
    "name": "ipython",
    "version": 3
   },
   "file_extension": ".py",
   "mimetype": "text/x-python",
   "name": "python",
   "nbconvert_exporter": "python",
   "pygments_lexer": "ipython3",
   "version": "3.9.1"
  }
 },
 "nbformat": 4,
 "nbformat_minor": 2
}
