{
 "cells": [
  {
   "cell_type": "code",
   "execution_count": null,
   "metadata": {},
   "outputs": [],
   "source": [
    "import numpy\n",
    "import matplotlib.pyplot as plt"
   ]
  },
  {
   "cell_type": "code",
   "execution_count": null,
   "metadata": {},
   "outputs": [],
   "source": [
    "def getbJetTrack():\n",
    "    r = numpy.random.rand()\n",
    "    if (r<0.9):\n",
    "        return numpy.random.normal(0,0.5)\n",
    "    elif (r<0.95):\n",
    "        return 4 * numpy.random.random_sample()-2 #get flat -2 to 2\n",
    "    else:\n",
    "        return (numpy.random.exponential(1)+numpy.random.normal(0,0.25))\n",
    "    \n",
    "def getLFTrack():\n",
    "    r = numpy.random.rand()\n",
    "    if (r<0.95):\n",
    "        return numpy.random.normal(0,0.5)\n",
    "    else:\n",
    "        return 4 * numpy.random.random_sample()-2"
   ]
  },
  {
   "cell_type": "code",
   "execution_count": null,
   "metadata": {},
   "outputs": [],
   "source": [
    "def getbJetData(NumData): #get list of NumData number of elements\n",
    "    DataSet=[]\n",
    "    for i in range (NumData):\n",
    "        n = numpy.random.poisson(4)\n",
    "        tracks=[]\n",
    "        for j in range (n):\n",
    "            tracks.append(getbJetTrack())\n",
    "        DataSet.append(tracks)\n",
    "    return DataSet"
   ]
  },
  {
   "cell_type": "code",
   "execution_count": null,
   "metadata": {},
   "outputs": [],
   "source": [
    "def getLFJetData(NumData): # get list of NumData number of elements\n",
    "    DataSet=[]\n",
    "    for i in range (NumData):\n",
    "        n = numpy.random.poisson(2)\n",
    "        tracks=[]\n",
    "        for j in range (n):\n",
    "            tracks.append(getLFTrack())\n",
    "        DataSet.append(tracks)\n",
    "    return DataSet"
   ]
  },
  {
   "cell_type": "code",
   "execution_count": null,
   "metadata": {},
   "outputs": [],
   "source": [
    "def DataSameLen(listOfLists): # add 0 to the end of stort list elements\n",
    "    maxLen=0\n",
    "    for i in listOfLists:\n",
    "        if len(i)>maxLen:\n",
    "            maxLen=len(i)\n",
    "    for i in listOfLists:\n",
    "        if len(i)<maxLen:\n",
    "            while(len(i)<maxLen):\n",
    "                i.append(0)\n",
    "    return listOfLists\n"
   ]
  },
  {
   "cell_type": "code",
   "execution_count": null,
   "metadata": {},
   "outputs": [],
   "source": [
    "def getData(NumData): #combines B jet data and LF jet data, NumData: number of data in each, adds indicator at the front\n",
    "    bj=getbJetData(NumData) #only train uses this\n",
    "    j=0\n",
    "    for i in bj:\n",
    "        bj[j] = [True] + i\n",
    "        j+=1\n",
    "    lfj=getLFJetData(NumData)\n",
    "    k=0\n",
    "    for i in lfj:\n",
    "        lfj[k] = [False] + i\n",
    "        k+=1\n",
    "    for j in lfj:\n",
    "        bj.append(j)\n",
    "    return DataSameLen(bj)"
   ]
  },
  {
   "cell_type": "code",
   "execution_count": null,
   "metadata": {},
   "outputs": [],
   "source": [
    "def dist(elem_train, elem_test): \n",
    "    d=0.0\n",
    "    for i in range(1, len(elem_train)):\n",
    "        d+=(elem_train[i]-elem_test[i-1])**2\n",
    "    return numpy.sqrt(d)\n",
    "\n",
    "def getNbors(train, elem_test, k):\n",
    "    distance=[]\n",
    "    for elem in train:\n",
    "        distance.append([elem,dist(elem,elem_test)])\n",
    "    distance.sort(key = lambda ls : ls[1])\n",
    "    nbors=[]\n",
    "    for i in range(k):\n",
    "        nbors.append(distance[i][0])\n",
    "    return nbors\n",
    "\n",
    "def BjetProb(train, elem_test, k):\n",
    "    neigbors=getNbors(train,elem_test,k)\n",
    "    numTrue=0\n",
    "    for i in neigbors:\n",
    "        if (i[0]==True):\n",
    "            numTrue+=1\n",
    "    return float(numTrue)/float(len(neigbors))"
   ]
  },
  {
   "cell_type": "code",
   "execution_count": null,
   "metadata": {},
   "outputs": [],
   "source": [
    "train = getData(1000)\n",
    "test = []\n",
    "test=getbJetData(1000)\n",
    "xs=getLFJetData(1000)\n",
    "for i in range (1000):\n",
    "    test.append(xs[i])\n",
    "DataSameLen(test)\n",
    "DataSameLen(train)\n",
    "#print(\"lenTest:\",len(test[0]))\n",
    "#print(test)\n",
    "#print(\"lenTrain:\",len(train[0]))\n",
    "#print(train)\n",
    "if (len(test[0])<len(train[0])-1):\n",
    "    for i in test:\n",
    "        while(len(i)<len(train[0])-1):\n",
    "            i.append(0)\n",
    "#print(test)\n",
    "prob=[]\n",
    "for i in test:\n",
    "    prob.append(BjetProb(train,i,10))\n",
    "prob\n",
    "plt.hist(prob, density=True, bins=50)"
   ]
  }
 ],
 "metadata": {
  "kernelspec": {
   "display_name": "Python 3",
   "language": "python",
   "name": "python3"
  },
  "language_info": {
   "codemirror_mode": {
    "name": "ipython",
    "version": 3
   },
   "file_extension": ".py",
   "mimetype": "text/x-python",
   "name": "python",
   "nbconvert_exporter": "python",
   "pygments_lexer": "ipython3",
   "version": "3.8.9"
  },
  "orig_nbformat": 4
 },
 "nbformat": 4,
 "nbformat_minor": 2
}
