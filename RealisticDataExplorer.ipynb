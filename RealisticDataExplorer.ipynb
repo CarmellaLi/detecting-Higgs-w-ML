{
 "cells": [
  {
   "cell_type": "code",
   "execution_count": 3,
   "metadata": {},
   "outputs": [],
   "source": [
    "import numpy as np \n",
    "import matplotlib \n",
    "import matplotlib.pyplot as plt\n",
    "import random\n",
    "import pandas as pd\n",
    "\n"
   ]
  },
  {
   "cell_type": "code",
   "execution_count": 4,
   "metadata": {},
   "outputs": [],
   "source": [
    "data = pd.read_json(\"datasetTest100k.json\", lines = True, nrows = 5*100000)"
   ]
  },
  {
   "cell_type": "code",
   "execution_count": 5,
   "metadata": {},
   "outputs": [],
   "source": [
    "jetpt = data[0]\n",
    "jeteta = data[1]\n",
    "flavor = data[2]\n",
    "trackHighData = data[3]\n",
    "vertexHighData = data[4]"
   ]
  },
  {
   "cell_type": "code",
   "execution_count": 6,
   "metadata": {},
   "outputs": [
    {
     "data": {
      "text/plain": [
       "(200000, 6)"
      ]
     },
     "execution_count": 6,
     "metadata": {},
     "output_type": "execute_result"
    }
   ],
   "source": [
    "data.shape"
   ]
  },
  {
   "cell_type": "code",
   "execution_count": 7,
   "metadata": {},
   "outputs": [
    {
     "data": {
      "text/plain": [
       "pandas.core.frame.DataFrame"
      ]
     },
     "execution_count": 7,
     "metadata": {},
     "output_type": "execute_result"
    }
   ],
   "source": [
    "type(data)"
   ]
  },
  {
   "cell_type": "code",
   "execution_count": 8,
   "metadata": {},
   "outputs": [
    {
     "data": {
      "text/html": [
       "<div>\n",
       "<style scoped>\n",
       "    .dataframe tbody tr th:only-of-type {\n",
       "        vertical-align: middle;\n",
       "    }\n",
       "\n",
       "    .dataframe tbody tr th {\n",
       "        vertical-align: top;\n",
       "    }\n",
       "\n",
       "    .dataframe thead th {\n",
       "        text-align: right;\n",
       "    }\n",
       "</style>\n",
       "<table border=\"1\" class=\"dataframe\">\n",
       "  <thead>\n",
       "    <tr style=\"text-align: right;\">\n",
       "      <th></th>\n",
       "      <th>0</th>\n",
       "      <th>1</th>\n",
       "      <th>2</th>\n",
       "      <th>3</th>\n",
       "      <th>4</th>\n",
       "      <th>5</th>\n",
       "    </tr>\n",
       "  </thead>\n",
       "  <tbody>\n",
       "    <tr>\n",
       "      <th>0</th>\n",
       "      <td>47.8712</td>\n",
       "      <td>1.893250</td>\n",
       "      <td>5</td>\n",
       "      <td>[21.1765, 8.36586, 29.0269, 4.149, 5, 2.68624e...</td>\n",
       "      <td>[32.8902, 3, 7, 0.16244799999999998, 1.59408, ...</td>\n",
       "      <td>[[[0.031162699999999998, 0.0820037, 0.0714865,...</td>\n",
       "    </tr>\n",
       "    <tr>\n",
       "      <th>1</th>\n",
       "      <td>34.9703</td>\n",
       "      <td>0.609755</td>\n",
       "      <td>5</td>\n",
       "      <td>[5.0077, 3.03583, 2.00754, 0.32992099999999996...</td>\n",
       "      <td>[25.1935, 1, 3, 0.122343, 2.23962, 0.930326999...</td>\n",
       "      <td>[[[-0.029083699999999997, 0.12274499999999999,...</td>\n",
       "    </tr>\n",
       "    <tr>\n",
       "      <th>2</th>\n",
       "      <td>26.5706</td>\n",
       "      <td>-0.530268</td>\n",
       "      <td>5</td>\n",
       "      <td>[0.8078839999999999, 0.6305649999999999, 1.044...</td>\n",
       "      <td>[-1, -1, -1, inf, -1, -inf]</td>\n",
       "      <td>[[[-0.00689455, -0.379085, 0.0617111, -0.02322...</td>\n",
       "    </tr>\n",
       "    <tr>\n",
       "      <th>3</th>\n",
       "      <td>36.9246</td>\n",
       "      <td>-2.074420</td>\n",
       "      <td>5</td>\n",
       "      <td>[16.5617, 10.357, 17.5166, 30.4992, 4, 4.35319...</td>\n",
       "      <td>[73.6335, 1, 2, 0.259107, 0.755648, 0.594634]</td>\n",
       "      <td>[[[0.0183914, -0.00212568, -0.0371646999999999...</td>\n",
       "    </tr>\n",
       "    <tr>\n",
       "      <th>4</th>\n",
       "      <td>28.9667</td>\n",
       "      <td>1.512090</td>\n",
       "      <td>5</td>\n",
       "      <td>[18.0325, 16.1445, 3.29359, 9.00347, 4, 3.3143...</td>\n",
       "      <td>[293.79, 1, 4, 0.0871323, 1.40008, 1.00014]</td>\n",
       "      <td>[[[-0.753196, 3.5972, -0.11093000000000001, 0....</td>\n",
       "    </tr>\n",
       "    <tr>\n",
       "      <th>...</th>\n",
       "      <td>...</td>\n",
       "      <td>...</td>\n",
       "      <td>...</td>\n",
       "      <td>...</td>\n",
       "      <td>...</td>\n",
       "      <td>...</td>\n",
       "    </tr>\n",
       "    <tr>\n",
       "      <th>199995</th>\n",
       "      <td>27.9514</td>\n",
       "      <td>-1.952300</td>\n",
       "      <td>0</td>\n",
       "      <td>[0.594449, -inf, 0.17506000000000002, -inf, 0,...</td>\n",
       "      <td>[-1, -1, -1, inf, -1, -inf]</td>\n",
       "      <td>[[[0.0148769, -0.0165837, 0.0171593, 0.0010783...</td>\n",
       "    </tr>\n",
       "    <tr>\n",
       "      <th>199996</th>\n",
       "      <td>31.7411</td>\n",
       "      <td>0.581113</td>\n",
       "      <td>0</td>\n",
       "      <td>[0.8840079999999999, 0.0586451, 2.08934, 1.085...</td>\n",
       "      <td>[-1, -1, -1, inf, -1, -inf]</td>\n",
       "      <td>[[[-0.00236544, 0.264679, 0.0364315, 0.115328,...</td>\n",
       "    </tr>\n",
       "    <tr>\n",
       "      <th>199997</th>\n",
       "      <td>43.4182</td>\n",
       "      <td>-1.354190</td>\n",
       "      <td>0</td>\n",
       "      <td>[2.01423, 0.0571862, 0.018168999999999998, 0.6...</td>\n",
       "      <td>[-1, -1, -1, inf, -1, -inf]</td>\n",
       "      <td>[[[-0.06418589999999999, -0.00209336, -0.06576...</td>\n",
       "    </tr>\n",
       "    <tr>\n",
       "      <th>199998</th>\n",
       "      <td>25.8566</td>\n",
       "      <td>-2.288910</td>\n",
       "      <td>0</td>\n",
       "      <td>[1.1272, 0.7943779999999999, 0.415697, 0.07267...</td>\n",
       "      <td>[-1, -1, -1, inf, -1, -inf]</td>\n",
       "      <td>[[[-0.0150902, 0.204454, -0.3825, -0.0139872, ...</td>\n",
       "    </tr>\n",
       "    <tr>\n",
       "      <th>199999</th>\n",
       "      <td>37.2836</td>\n",
       "      <td>1.011040</td>\n",
       "      <td>0</td>\n",
       "      <td>[1.32821, 0.404721, 0.660036, 0.22450299999999...</td>\n",
       "      <td>[-1, -1, -1, inf, -1, -inf]</td>\n",
       "      <td>[[[-0.0469244, 0.10290099999999999, -0.019003,...</td>\n",
       "    </tr>\n",
       "  </tbody>\n",
       "</table>\n",
       "<p>200000 rows × 6 columns</p>\n",
       "</div>"
      ],
      "text/plain": [
       "              0         1  2  \\\n",
       "0       47.8712  1.893250  5   \n",
       "1       34.9703  0.609755  5   \n",
       "2       26.5706 -0.530268  5   \n",
       "3       36.9246 -2.074420  5   \n",
       "4       28.9667  1.512090  5   \n",
       "...         ...       ... ..   \n",
       "199995  27.9514 -1.952300  0   \n",
       "199996  31.7411  0.581113  0   \n",
       "199997  43.4182 -1.354190  0   \n",
       "199998  25.8566 -2.288910  0   \n",
       "199999  37.2836  1.011040  0   \n",
       "\n",
       "                                                        3  \\\n",
       "0       [21.1765, 8.36586, 29.0269, 4.149, 5, 2.68624e...   \n",
       "1       [5.0077, 3.03583, 2.00754, 0.32992099999999996...   \n",
       "2       [0.8078839999999999, 0.6305649999999999, 1.044...   \n",
       "3       [16.5617, 10.357, 17.5166, 30.4992, 4, 4.35319...   \n",
       "4       [18.0325, 16.1445, 3.29359, 9.00347, 4, 3.3143...   \n",
       "...                                                   ...   \n",
       "199995  [0.594449, -inf, 0.17506000000000002, -inf, 0,...   \n",
       "199996  [0.8840079999999999, 0.0586451, 2.08934, 1.085...   \n",
       "199997  [2.01423, 0.0571862, 0.018168999999999998, 0.6...   \n",
       "199998  [1.1272, 0.7943779999999999, 0.415697, 0.07267...   \n",
       "199999  [1.32821, 0.404721, 0.660036, 0.22450299999999...   \n",
       "\n",
       "                                                        4  \\\n",
       "0       [32.8902, 3, 7, 0.16244799999999998, 1.59408, ...   \n",
       "1       [25.1935, 1, 3, 0.122343, 2.23962, 0.930326999...   \n",
       "2                             [-1, -1, -1, inf, -1, -inf]   \n",
       "3           [73.6335, 1, 2, 0.259107, 0.755648, 0.594634]   \n",
       "4             [293.79, 1, 4, 0.0871323, 1.40008, 1.00014]   \n",
       "...                                                   ...   \n",
       "199995                        [-1, -1, -1, inf, -1, -inf]   \n",
       "199996                        [-1, -1, -1, inf, -1, -inf]   \n",
       "199997                        [-1, -1, -1, inf, -1, -inf]   \n",
       "199998                        [-1, -1, -1, inf, -1, -inf]   \n",
       "199999                        [-1, -1, -1, inf, -1, -inf]   \n",
       "\n",
       "                                                        5  \n",
       "0       [[[0.031162699999999998, 0.0820037, 0.0714865,...  \n",
       "1       [[[-0.029083699999999997, 0.12274499999999999,...  \n",
       "2       [[[-0.00689455, -0.379085, 0.0617111, -0.02322...  \n",
       "3       [[[0.0183914, -0.00212568, -0.0371646999999999...  \n",
       "4       [[[-0.753196, 3.5972, -0.11093000000000001, 0....  \n",
       "...                                                   ...  \n",
       "199995  [[[0.0148769, -0.0165837, 0.0171593, 0.0010783...  \n",
       "199996  [[[-0.00236544, 0.264679, 0.0364315, 0.115328,...  \n",
       "199997  [[[-0.06418589999999999, -0.00209336, -0.06576...  \n",
       "199998  [[[-0.0150902, 0.204454, -0.3825, -0.0139872, ...  \n",
       "199999  [[[-0.0469244, 0.10290099999999999, -0.019003,...  \n",
       "\n",
       "[200000 rows x 6 columns]"
      ]
     },
     "execution_count": 8,
     "metadata": {},
     "output_type": "execute_result"
    }
   ],
   "source": [
    "data"
   ]
  },
  {
   "cell_type": "code",
   "execution_count": 9,
   "metadata": {},
   "outputs": [
    {
     "data": {
      "text/plain": [
       "0         5\n",
       "1         5\n",
       "2         5\n",
       "3         5\n",
       "4         5\n",
       "         ..\n",
       "199995    0\n",
       "199996    0\n",
       "199997    0\n",
       "199998    0\n",
       "199999    0\n",
       "Name: 2, Length: 200000, dtype: int64"
      ]
     },
     "execution_count": 9,
     "metadata": {},
     "output_type": "execute_result"
    }
   ],
   "source": [
    "data[2]"
   ]
  },
  {
   "cell_type": "code",
   "execution_count": null,
   "metadata": {},
   "outputs": [],
   "source": []
  },
  {
   "cell_type": "code",
   "execution_count": 10,
   "metadata": {},
   "outputs": [
    {
     "name": "stdout",
     "output_type": "stream",
     "text": [
      "(200000, 26)\n",
      "(200000, 26)\n",
      "(186110, 26)\n"
     ]
    }
   ],
   "source": [
    "trkData = np.stack(data[3],axis=0)\n",
    "\n",
    "trk_high_level_name = [\"track_2_d0_significance\", \"track_3_d0_significance\",\n",
    "                       \"track_2_z0_significance\", \"track_3_z0_significance\",\n",
    "                       \"n_tracks_over_d0_threshold\", \"jet_prob\", \"jet_width_eta\", \"jet_width_phi\"]\n",
    "\n",
    "for i, trkName in enumerate(trk_high_level_name):\n",
    "    tmpArr = np.array(trkData[:,i],dtype=\"float32\")\n",
    "    data[trkName] = tmpArr\n",
    "\n",
    "# Smeared Data    \n",
    "trk_high_level_smear = [{\"name\":\"track_2_d0_significance\",\"mu\":0,\"sigma\":1,\"index\":0},\n",
    "                        {\"name\":\"track_3_d0_significance\",\"mu\":0,\"sigma\":2,\"index\":1},\n",
    "                        {\"name\":\"track_2_z0_significance\",\"mu\":0,\"sigma\":1,\"index\":2},\n",
    "                        {\"name\":\"track_3_z0_significance\",\"mu\":0,\"sigma\":2,\"index\":3},\n",
    "                        #\"n_tracks_over_d0_threshold\"\n",
    "                        #\"jet_prob\", \n",
    "                        {\"name\":\"jet_width_eta\",\"mu\":0,\"sigma\":0.05,\"index\":6},\n",
    "                        {\"name\":\"jet_width_phi\",\"mu\":0,\"sigma\":0.05,\"index\":7}\n",
    "                       ]\n",
    "\n",
    "for trkSmear in trk_high_level_smear:\n",
    "    tmpArr = np.array(trkData[:,trkSmear[\"index\"]],dtype=\"float32\")\n",
    "    data[trkSmear[\"name\"]+\"_data\"] = (tmpArr**2 + \n",
    "                                     np.random.normal(trkSmear[\"mu\"], trkSmear[\"sigma\"], tmpArr.size)**2)**0.5    \n",
    "    \n",
    "    \n",
    "vtxData = np.stack(data[4],axis=0)\n",
    "    \n",
    "vtx_high_level_name = [\"vertex_significance\", \"n_secondary_vertices\", \"n_secondary_vertex_tracks\",\n",
    "                       \"delta_r_vertex\", \"vertex_mass\", \"vertex_energy_fraction\"]\n",
    "\n",
    "for i, vtxName in enumerate(vtx_high_level_name):\n",
    "    tmpArr = np.array(vtxData[:,i],dtype=\"float32\")\n",
    "    data[vtxName] = tmpArr\n",
    "\n",
    "print(data.shape)\n",
    "#print(data[data[\"track_2_d0_significance\"] == -np.inf])\n",
    "print(data.shape)\n",
    "dataClean = data[data[\"track_2_d0_significance\"] != -np.inf]\n",
    "\n",
    "print(dataClean.shape)"
   ]
  },
  {
   "cell_type": "code",
   "execution_count": 11,
   "metadata": {},
   "outputs": [
    {
     "data": {
      "text/html": [
       "<div>\n",
       "<style scoped>\n",
       "    .dataframe tbody tr th:only-of-type {\n",
       "        vertical-align: middle;\n",
       "    }\n",
       "\n",
       "    .dataframe tbody tr th {\n",
       "        vertical-align: top;\n",
       "    }\n",
       "\n",
       "    .dataframe thead th {\n",
       "        text-align: right;\n",
       "    }\n",
       "</style>\n",
       "<table border=\"1\" class=\"dataframe\">\n",
       "  <thead>\n",
       "    <tr style=\"text-align: right;\">\n",
       "      <th></th>\n",
       "      <th>0</th>\n",
       "      <th>1</th>\n",
       "      <th>2</th>\n",
       "      <th>3</th>\n",
       "      <th>4</th>\n",
       "      <th>5</th>\n",
       "      <th>track_2_d0_significance</th>\n",
       "      <th>track_3_d0_significance</th>\n",
       "      <th>track_2_z0_significance</th>\n",
       "      <th>track_3_z0_significance</th>\n",
       "      <th>...</th>\n",
       "      <th>track_2_z0_significance_data</th>\n",
       "      <th>track_3_z0_significance_data</th>\n",
       "      <th>jet_width_eta_data</th>\n",
       "      <th>jet_width_phi_data</th>\n",
       "      <th>vertex_significance</th>\n",
       "      <th>n_secondary_vertices</th>\n",
       "      <th>n_secondary_vertex_tracks</th>\n",
       "      <th>delta_r_vertex</th>\n",
       "      <th>vertex_mass</th>\n",
       "      <th>vertex_energy_fraction</th>\n",
       "    </tr>\n",
       "  </thead>\n",
       "  <tbody>\n",
       "    <tr>\n",
       "      <th>0</th>\n",
       "      <td>47.8712</td>\n",
       "      <td>1.893250</td>\n",
       "      <td>5</td>\n",
       "      <td>[21.1765, 8.36586, 29.0269, 4.149, 5, 2.68624e...</td>\n",
       "      <td>[32.8902, 3, 7, 0.16244799999999998, 1.59408, ...</td>\n",
       "      <td>[[[0.031162699999999998, 0.0820037, 0.0714865,...</td>\n",
       "      <td>21.176500</td>\n",
       "      <td>8.365860</td>\n",
       "      <td>29.026899</td>\n",
       "      <td>4.149000</td>\n",
       "      <td>...</td>\n",
       "      <td>29.030341</td>\n",
       "      <td>4.218842</td>\n",
       "      <td>0.066865</td>\n",
       "      <td>0.095384</td>\n",
       "      <td>32.890202</td>\n",
       "      <td>3.0</td>\n",
       "      <td>7.0</td>\n",
       "      <td>0.162448</td>\n",
       "      <td>1.594080</td>\n",
       "      <td>0.862678</td>\n",
       "    </tr>\n",
       "    <tr>\n",
       "      <th>1</th>\n",
       "      <td>34.9703</td>\n",
       "      <td>0.609755</td>\n",
       "      <td>5</td>\n",
       "      <td>[5.0077, 3.03583, 2.00754, 0.32992099999999996...</td>\n",
       "      <td>[25.1935, 1, 3, 0.122343, 2.23962, 0.930326999...</td>\n",
       "      <td>[[[-0.029083699999999997, 0.12274499999999999,...</td>\n",
       "      <td>5.007700</td>\n",
       "      <td>3.035830</td>\n",
       "      <td>2.007540</td>\n",
       "      <td>0.329921</td>\n",
       "      <td>...</td>\n",
       "      <td>2.157105</td>\n",
       "      <td>0.364212</td>\n",
       "      <td>0.066765</td>\n",
       "      <td>0.150129</td>\n",
       "      <td>25.193501</td>\n",
       "      <td>1.0</td>\n",
       "      <td>3.0</td>\n",
       "      <td>0.122343</td>\n",
       "      <td>2.239620</td>\n",
       "      <td>0.930327</td>\n",
       "    </tr>\n",
       "    <tr>\n",
       "      <th>2</th>\n",
       "      <td>26.5706</td>\n",
       "      <td>-0.530268</td>\n",
       "      <td>5</td>\n",
       "      <td>[0.8078839999999999, 0.6305649999999999, 1.044...</td>\n",
       "      <td>[-1, -1, -1, inf, -1, -inf]</td>\n",
       "      <td>[[[-0.00689455, -0.379085, 0.0617111, -0.02322...</td>\n",
       "      <td>0.807884</td>\n",
       "      <td>0.630565</td>\n",
       "      <td>1.044520</td>\n",
       "      <td>1.283360</td>\n",
       "      <td>...</td>\n",
       "      <td>1.229013</td>\n",
       "      <td>2.057375</td>\n",
       "      <td>0.097539</td>\n",
       "      <td>0.161517</td>\n",
       "      <td>-1.000000</td>\n",
       "      <td>-1.0</td>\n",
       "      <td>-1.0</td>\n",
       "      <td>inf</td>\n",
       "      <td>-1.000000</td>\n",
       "      <td>-inf</td>\n",
       "    </tr>\n",
       "    <tr>\n",
       "      <th>3</th>\n",
       "      <td>36.9246</td>\n",
       "      <td>-2.074420</td>\n",
       "      <td>5</td>\n",
       "      <td>[16.5617, 10.357, 17.5166, 30.4992, 4, 4.35319...</td>\n",
       "      <td>[73.6335, 1, 2, 0.259107, 0.755648, 0.594634]</td>\n",
       "      <td>[[[0.0183914, -0.00212568, -0.0371646999999999...</td>\n",
       "      <td>16.561701</td>\n",
       "      <td>10.357000</td>\n",
       "      <td>17.516600</td>\n",
       "      <td>30.499201</td>\n",
       "      <td>...</td>\n",
       "      <td>17.548694</td>\n",
       "      <td>30.698572</td>\n",
       "      <td>0.166184</td>\n",
       "      <td>0.119286</td>\n",
       "      <td>73.633499</td>\n",
       "      <td>1.0</td>\n",
       "      <td>2.0</td>\n",
       "      <td>0.259107</td>\n",
       "      <td>0.755648</td>\n",
       "      <td>0.594634</td>\n",
       "    </tr>\n",
       "    <tr>\n",
       "      <th>4</th>\n",
       "      <td>28.9667</td>\n",
       "      <td>1.512090</td>\n",
       "      <td>5</td>\n",
       "      <td>[18.0325, 16.1445, 3.29359, 9.00347, 4, 3.3143...</td>\n",
       "      <td>[293.79, 1, 4, 0.0871323, 1.40008, 1.00014]</td>\n",
       "      <td>[[[-0.753196, 3.5972, -0.11093000000000001, 0....</td>\n",
       "      <td>18.032499</td>\n",
       "      <td>16.144501</td>\n",
       "      <td>3.293590</td>\n",
       "      <td>9.003470</td>\n",
       "      <td>...</td>\n",
       "      <td>3.531341</td>\n",
       "      <td>9.043188</td>\n",
       "      <td>0.088742</td>\n",
       "      <td>0.095072</td>\n",
       "      <td>293.790009</td>\n",
       "      <td>1.0</td>\n",
       "      <td>4.0</td>\n",
       "      <td>0.087132</td>\n",
       "      <td>1.400080</td>\n",
       "      <td>1.000140</td>\n",
       "    </tr>\n",
       "    <tr>\n",
       "      <th>...</th>\n",
       "      <td>...</td>\n",
       "      <td>...</td>\n",
       "      <td>...</td>\n",
       "      <td>...</td>\n",
       "      <td>...</td>\n",
       "      <td>...</td>\n",
       "      <td>...</td>\n",
       "      <td>...</td>\n",
       "      <td>...</td>\n",
       "      <td>...</td>\n",
       "      <td>...</td>\n",
       "      <td>...</td>\n",
       "      <td>...</td>\n",
       "      <td>...</td>\n",
       "      <td>...</td>\n",
       "      <td>...</td>\n",
       "      <td>...</td>\n",
       "      <td>...</td>\n",
       "      <td>...</td>\n",
       "      <td>...</td>\n",
       "      <td>...</td>\n",
       "    </tr>\n",
       "    <tr>\n",
       "      <th>199995</th>\n",
       "      <td>27.9514</td>\n",
       "      <td>-1.952300</td>\n",
       "      <td>0</td>\n",
       "      <td>[0.594449, -inf, 0.17506000000000002, -inf, 0,...</td>\n",
       "      <td>[-1, -1, -1, inf, -1, -inf]</td>\n",
       "      <td>[[[0.0148769, -0.0165837, 0.0171593, 0.0010783...</td>\n",
       "      <td>0.594449</td>\n",
       "      <td>-inf</td>\n",
       "      <td>0.175060</td>\n",
       "      <td>-inf</td>\n",
       "      <td>...</td>\n",
       "      <td>2.084663</td>\n",
       "      <td>inf</td>\n",
       "      <td>0.134288</td>\n",
       "      <td>0.130906</td>\n",
       "      <td>-1.000000</td>\n",
       "      <td>-1.0</td>\n",
       "      <td>-1.0</td>\n",
       "      <td>inf</td>\n",
       "      <td>-1.000000</td>\n",
       "      <td>-inf</td>\n",
       "    </tr>\n",
       "    <tr>\n",
       "      <th>199996</th>\n",
       "      <td>31.7411</td>\n",
       "      <td>0.581113</td>\n",
       "      <td>0</td>\n",
       "      <td>[0.8840079999999999, 0.0586451, 2.08934, 1.085...</td>\n",
       "      <td>[-1, -1, -1, inf, -1, -inf]</td>\n",
       "      <td>[[[-0.00236544, 0.264679, 0.0364315, 0.115328,...</td>\n",
       "      <td>0.884008</td>\n",
       "      <td>0.058645</td>\n",
       "      <td>2.089340</td>\n",
       "      <td>1.085600</td>\n",
       "      <td>...</td>\n",
       "      <td>2.226253</td>\n",
       "      <td>2.218271</td>\n",
       "      <td>0.141523</td>\n",
       "      <td>0.175892</td>\n",
       "      <td>-1.000000</td>\n",
       "      <td>-1.0</td>\n",
       "      <td>-1.0</td>\n",
       "      <td>inf</td>\n",
       "      <td>-1.000000</td>\n",
       "      <td>-inf</td>\n",
       "    </tr>\n",
       "    <tr>\n",
       "      <th>199997</th>\n",
       "      <td>43.4182</td>\n",
       "      <td>-1.354190</td>\n",
       "      <td>0</td>\n",
       "      <td>[2.01423, 0.0571862, 0.018168999999999998, 0.6...</td>\n",
       "      <td>[-1, -1, -1, inf, -1, -inf]</td>\n",
       "      <td>[[[-0.06418589999999999, -0.00209336, -0.06576...</td>\n",
       "      <td>2.014230</td>\n",
       "      <td>0.057186</td>\n",
       "      <td>0.018169</td>\n",
       "      <td>0.646206</td>\n",
       "      <td>...</td>\n",
       "      <td>1.571298</td>\n",
       "      <td>0.651033</td>\n",
       "      <td>0.129388</td>\n",
       "      <td>0.065205</td>\n",
       "      <td>-1.000000</td>\n",
       "      <td>-1.0</td>\n",
       "      <td>-1.0</td>\n",
       "      <td>inf</td>\n",
       "      <td>-1.000000</td>\n",
       "      <td>-inf</td>\n",
       "    </tr>\n",
       "    <tr>\n",
       "      <th>199998</th>\n",
       "      <td>25.8566</td>\n",
       "      <td>-2.288910</td>\n",
       "      <td>0</td>\n",
       "      <td>[1.1272, 0.7943779999999999, 0.415697, 0.07267...</td>\n",
       "      <td>[-1, -1, -1, inf, -1, -inf]</td>\n",
       "      <td>[[[-0.0150902, 0.204454, -0.3825, -0.0139872, ...</td>\n",
       "      <td>1.127200</td>\n",
       "      <td>0.794378</td>\n",
       "      <td>0.415697</td>\n",
       "      <td>0.072679</td>\n",
       "      <td>...</td>\n",
       "      <td>0.591128</td>\n",
       "      <td>0.846412</td>\n",
       "      <td>0.078944</td>\n",
       "      <td>0.084225</td>\n",
       "      <td>-1.000000</td>\n",
       "      <td>-1.0</td>\n",
       "      <td>-1.0</td>\n",
       "      <td>inf</td>\n",
       "      <td>-1.000000</td>\n",
       "      <td>-inf</td>\n",
       "    </tr>\n",
       "    <tr>\n",
       "      <th>199999</th>\n",
       "      <td>37.2836</td>\n",
       "      <td>1.011040</td>\n",
       "      <td>0</td>\n",
       "      <td>[1.32821, 0.404721, 0.660036, 0.22450299999999...</td>\n",
       "      <td>[-1, -1, -1, inf, -1, -inf]</td>\n",
       "      <td>[[[-0.0469244, 0.10290099999999999, -0.019003,...</td>\n",
       "      <td>1.328210</td>\n",
       "      <td>0.404721</td>\n",
       "      <td>0.660036</td>\n",
       "      <td>0.224503</td>\n",
       "      <td>...</td>\n",
       "      <td>1.124661</td>\n",
       "      <td>2.759087</td>\n",
       "      <td>0.053716</td>\n",
       "      <td>0.106902</td>\n",
       "      <td>-1.000000</td>\n",
       "      <td>-1.0</td>\n",
       "      <td>-1.0</td>\n",
       "      <td>inf</td>\n",
       "      <td>-1.000000</td>\n",
       "      <td>-inf</td>\n",
       "    </tr>\n",
       "  </tbody>\n",
       "</table>\n",
       "<p>200000 rows × 26 columns</p>\n",
       "</div>"
      ],
      "text/plain": [
       "              0         1  2  \\\n",
       "0       47.8712  1.893250  5   \n",
       "1       34.9703  0.609755  5   \n",
       "2       26.5706 -0.530268  5   \n",
       "3       36.9246 -2.074420  5   \n",
       "4       28.9667  1.512090  5   \n",
       "...         ...       ... ..   \n",
       "199995  27.9514 -1.952300  0   \n",
       "199996  31.7411  0.581113  0   \n",
       "199997  43.4182 -1.354190  0   \n",
       "199998  25.8566 -2.288910  0   \n",
       "199999  37.2836  1.011040  0   \n",
       "\n",
       "                                                        3  \\\n",
       "0       [21.1765, 8.36586, 29.0269, 4.149, 5, 2.68624e...   \n",
       "1       [5.0077, 3.03583, 2.00754, 0.32992099999999996...   \n",
       "2       [0.8078839999999999, 0.6305649999999999, 1.044...   \n",
       "3       [16.5617, 10.357, 17.5166, 30.4992, 4, 4.35319...   \n",
       "4       [18.0325, 16.1445, 3.29359, 9.00347, 4, 3.3143...   \n",
       "...                                                   ...   \n",
       "199995  [0.594449, -inf, 0.17506000000000002, -inf, 0,...   \n",
       "199996  [0.8840079999999999, 0.0586451, 2.08934, 1.085...   \n",
       "199997  [2.01423, 0.0571862, 0.018168999999999998, 0.6...   \n",
       "199998  [1.1272, 0.7943779999999999, 0.415697, 0.07267...   \n",
       "199999  [1.32821, 0.404721, 0.660036, 0.22450299999999...   \n",
       "\n",
       "                                                        4  \\\n",
       "0       [32.8902, 3, 7, 0.16244799999999998, 1.59408, ...   \n",
       "1       [25.1935, 1, 3, 0.122343, 2.23962, 0.930326999...   \n",
       "2                             [-1, -1, -1, inf, -1, -inf]   \n",
       "3           [73.6335, 1, 2, 0.259107, 0.755648, 0.594634]   \n",
       "4             [293.79, 1, 4, 0.0871323, 1.40008, 1.00014]   \n",
       "...                                                   ...   \n",
       "199995                        [-1, -1, -1, inf, -1, -inf]   \n",
       "199996                        [-1, -1, -1, inf, -1, -inf]   \n",
       "199997                        [-1, -1, -1, inf, -1, -inf]   \n",
       "199998                        [-1, -1, -1, inf, -1, -inf]   \n",
       "199999                        [-1, -1, -1, inf, -1, -inf]   \n",
       "\n",
       "                                                        5  \\\n",
       "0       [[[0.031162699999999998, 0.0820037, 0.0714865,...   \n",
       "1       [[[-0.029083699999999997, 0.12274499999999999,...   \n",
       "2       [[[-0.00689455, -0.379085, 0.0617111, -0.02322...   \n",
       "3       [[[0.0183914, -0.00212568, -0.0371646999999999...   \n",
       "4       [[[-0.753196, 3.5972, -0.11093000000000001, 0....   \n",
       "...                                                   ...   \n",
       "199995  [[[0.0148769, -0.0165837, 0.0171593, 0.0010783...   \n",
       "199996  [[[-0.00236544, 0.264679, 0.0364315, 0.115328,...   \n",
       "199997  [[[-0.06418589999999999, -0.00209336, -0.06576...   \n",
       "199998  [[[-0.0150902, 0.204454, -0.3825, -0.0139872, ...   \n",
       "199999  [[[-0.0469244, 0.10290099999999999, -0.019003,...   \n",
       "\n",
       "        track_2_d0_significance  track_3_d0_significance  \\\n",
       "0                     21.176500                 8.365860   \n",
       "1                      5.007700                 3.035830   \n",
       "2                      0.807884                 0.630565   \n",
       "3                     16.561701                10.357000   \n",
       "4                     18.032499                16.144501   \n",
       "...                         ...                      ...   \n",
       "199995                 0.594449                     -inf   \n",
       "199996                 0.884008                 0.058645   \n",
       "199997                 2.014230                 0.057186   \n",
       "199998                 1.127200                 0.794378   \n",
       "199999                 1.328210                 0.404721   \n",
       "\n",
       "        track_2_z0_significance  track_3_z0_significance  ...  \\\n",
       "0                     29.026899                 4.149000  ...   \n",
       "1                      2.007540                 0.329921  ...   \n",
       "2                      1.044520                 1.283360  ...   \n",
       "3                     17.516600                30.499201  ...   \n",
       "4                      3.293590                 9.003470  ...   \n",
       "...                         ...                      ...  ...   \n",
       "199995                 0.175060                     -inf  ...   \n",
       "199996                 2.089340                 1.085600  ...   \n",
       "199997                 0.018169                 0.646206  ...   \n",
       "199998                 0.415697                 0.072679  ...   \n",
       "199999                 0.660036                 0.224503  ...   \n",
       "\n",
       "        track_2_z0_significance_data  track_3_z0_significance_data  \\\n",
       "0                          29.030341                      4.218842   \n",
       "1                           2.157105                      0.364212   \n",
       "2                           1.229013                      2.057375   \n",
       "3                          17.548694                     30.698572   \n",
       "4                           3.531341                      9.043188   \n",
       "...                              ...                           ...   \n",
       "199995                      2.084663                           inf   \n",
       "199996                      2.226253                      2.218271   \n",
       "199997                      1.571298                      0.651033   \n",
       "199998                      0.591128                      0.846412   \n",
       "199999                      1.124661                      2.759087   \n",
       "\n",
       "        jet_width_eta_data  jet_width_phi_data  vertex_significance  \\\n",
       "0                 0.066865            0.095384            32.890202   \n",
       "1                 0.066765            0.150129            25.193501   \n",
       "2                 0.097539            0.161517            -1.000000   \n",
       "3                 0.166184            0.119286            73.633499   \n",
       "4                 0.088742            0.095072           293.790009   \n",
       "...                    ...                 ...                  ...   \n",
       "199995            0.134288            0.130906            -1.000000   \n",
       "199996            0.141523            0.175892            -1.000000   \n",
       "199997            0.129388            0.065205            -1.000000   \n",
       "199998            0.078944            0.084225            -1.000000   \n",
       "199999            0.053716            0.106902            -1.000000   \n",
       "\n",
       "        n_secondary_vertices  n_secondary_vertex_tracks  delta_r_vertex  \\\n",
       "0                        3.0                        7.0        0.162448   \n",
       "1                        1.0                        3.0        0.122343   \n",
       "2                       -1.0                       -1.0             inf   \n",
       "3                        1.0                        2.0        0.259107   \n",
       "4                        1.0                        4.0        0.087132   \n",
       "...                      ...                        ...             ...   \n",
       "199995                  -1.0                       -1.0             inf   \n",
       "199996                  -1.0                       -1.0             inf   \n",
       "199997                  -1.0                       -1.0             inf   \n",
       "199998                  -1.0                       -1.0             inf   \n",
       "199999                  -1.0                       -1.0             inf   \n",
       "\n",
       "        vertex_mass  vertex_energy_fraction  \n",
       "0          1.594080                0.862678  \n",
       "1          2.239620                0.930327  \n",
       "2         -1.000000                    -inf  \n",
       "3          0.755648                0.594634  \n",
       "4          1.400080                1.000140  \n",
       "...             ...                     ...  \n",
       "199995    -1.000000                    -inf  \n",
       "199996    -1.000000                    -inf  \n",
       "199997    -1.000000                    -inf  \n",
       "199998    -1.000000                    -inf  \n",
       "199999    -1.000000                    -inf  \n",
       "\n",
       "[200000 rows x 26 columns]"
      ]
     },
     "execution_count": 11,
     "metadata": {},
     "output_type": "execute_result"
    }
   ],
   "source": [
    "data"
   ]
  },
  {
   "cell_type": "code",
   "execution_count": 12,
   "metadata": {},
   "outputs": [
    {
     "name": "stdout",
     "output_type": "stream",
     "text": [
      "nTotal 186110\n",
      "nBJets 89228\n",
      "nCJets 20063\n",
      "nLJets 76819\n"
     ]
    }
   ],
   "source": [
    "bJets = dataClean[dataClean[2] == 5]\n",
    "lJets = dataClean[dataClean[2] == 0]\n",
    "cJets = dataClean[dataClean[2] == 4]\n",
    "\n",
    "print(\"nTotal\",dataClean.shape[0])\n",
    "print(\"nBJets\",bJets.shape[0])\n",
    "print(\"nCJets\",cJets.shape[0])\n",
    "print(\"nLJets\",lJets.shape[0])"
   ]
  },
  {
   "cell_type": "code",
   "execution_count": 13,
   "metadata": {},
   "outputs": [],
   "source": [
    "def normHist(inData,bins,color,histtype,linestyle=\"-\"):\n",
    "    counts, bins = np.histogram(inData,bins=bins)\n",
    "    totalCounts = counts.sum()\n",
    "    normCounts = counts/totalCounts\n",
    "    plt.hist(bins[:-1], bins, weights=normCounts,color=color,histtype=histtype,linestyle=linestyle)"
   ]
  },
  {
   "cell_type": "code",
   "execution_count": 14,
   "metadata": {},
   "outputs": [],
   "source": [
    "def plotVar(bData,cData,lData,xLow,xHigh,nBins,logy=False,norm=True):\n",
    "    if norm:\n",
    "        normHist(bData,bins=np.linspace(xLow,xHigh,nBins),color=\"r\",histtype='step')\n",
    "        normHist(lData,bins=np.linspace(xLow,xHigh,nBins),color=\"k\",histtype='step')\n",
    "        normHist(cData,bins=np.linspace(xLow,xHigh,nBins),color=\"b\",histtype='step')\n",
    "    else:\n",
    "        plt.hist(bData,bins=np.linspace(xLow,xHigh,nBins),color=\"r\",histtype='step')\n",
    "        plt.hist(lData,bins=np.linspace(xLow,xHigh,nBins),color=\"k\",histtype='step')\n",
    "        plt.hist(cData,bins=np.linspace(xLow,xHigh,nBins),color=\"b\",histtype='step')\n",
    "    if logy: plt.yscale('log')  \n",
    "    "
   ]
  },
  {
   "cell_type": "code",
   "execution_count": 15,
   "metadata": {},
   "outputs": [],
   "source": [
    "def plotVarAll(varName,xLow,xHigh,nBins,logy=False):\n",
    "    plotVar(bJets[varName],\n",
    "            cJets[varName],\n",
    "            lJets[varName],\n",
    "            xLow,xHigh,nBins,logy=logy)"
   ]
  },
  {
   "cell_type": "code",
   "execution_count": 16,
   "metadata": {},
   "outputs": [
    {
     "data": {
      "image/png": "[encoded data removed]",
      "text/plain": [
       "<Figure size 432x288 with 1 Axes>"
      ]
     },
     "metadata": {
      "needs_background": "light"
     },
     "output_type": "display_data"
    },
    {
     "data": {
      "image/png": "[encoded data removed]",
      "text/plain": [
       "<Figure size 432x288 with 1 Axes>"
      ]
     },
     "metadata": {
      "needs_background": "light"
     },
     "output_type": "display_data"
    },
    {
     "data": {
      "image/png": "[encoded data removed]",
      "text/plain": [
       "<Figure size 432x288 with 1 Axes>"
      ]
     },
     "metadata": {
      "needs_background": "light"
     },
     "output_type": "display_data"
    }
   ],
   "source": [
    "plotVarAll(1,-3,3,50,logy=False)\n",
    "plt.show()\n",
    "plotVarAll(0,0,300,100,logy=True)\n",
    "plt.show()\n",
    "plotVarAll(2,0,10,10,logy=False)"
   ]
  },
  {
   "cell_type": "code",
   "execution_count": 17,
   "metadata": {},
   "outputs": [
    {
     "data": {
      "image/png": "[encoded data removed]",
      "text/plain": [
       "<Figure size 432x288 with 1 Axes>"
      ]
     },
     "metadata": {
      "needs_background": "light"
     },
     "output_type": "display_data"
    },
    {
     "data": {
      "image/png": "[encoded data removed]",
      "text/plain": [
       "<Figure size 432x288 with 1 Axes>"
      ]
     },
     "metadata": {
      "needs_background": "light"
     },
     "output_type": "display_data"
    },
    {
     "data": {
      "image/png": "[encoded data removed]",
      "text/plain": [
       "<Figure size 432x288 with 1 Axes>"
      ]
     },
     "metadata": {
      "needs_background": "light"
     },
     "output_type": "display_data"
    },
    {
     "data": {
      "image/png": "[encoded data removed]",
      "text/plain": [
       "<Figure size 432x288 with 1 Axes>"
      ]
     },
     "metadata": {
      "needs_background": "light"
     },
     "output_type": "display_data"
    },
    {
     "data": {
      "image/png": "[encoded data removed]",
      "text/plain": [
       "<Figure size 432x288 with 1 Axes>"
      ]
     },
     "metadata": {
      "needs_background": "light"
     },
     "output_type": "display_data"
    },
    {
     "data": {
      "image/png": "[encoded data removed]",
      "text/plain": [
       "<Figure size 432x288 with 1 Axes>"
      ]
     },
     "metadata": {
      "needs_background": "light"
     },
     "output_type": "display_data"
    },
    {
     "data": {
      "image/png": "[encoded data removed]",
      "text/plain": [
       "<Figure size 432x288 with 1 Axes>"
      ]
     },
     "metadata": {
      "needs_background": "light"
     },
     "output_type": "display_data"
    },
    {
     "data": {
      "image/png": "[encoded data removed]",
      "text/plain": [
       "<Figure size 432x288 with 1 Axes>"
      ]
     },
     "metadata": {
      "needs_background": "light"
     },
     "output_type": "display_data"
    }
   ],
   "source": [
    "plotVarAll(\"track_2_d0_significance\",0,2.5,100,logy=False)\n",
    "plt.show()\n",
    "plotVarAll(\"track_3_d0_significance\",0,5.0,100,logy=True)\n",
    "plt.show()\n",
    "plotVarAll(\"track_2_z0_significance\",0,5.0,100,logy=True)\n",
    "plt.show()\n",
    "plotVarAll(\"track_3_z0_significance\",0,5.0,100,logy=True)\n",
    "plt.show()\n",
    "plotVarAll(\"n_tracks_over_d0_threshold\", 0,10.0,10,logy=True)\n",
    "plt.show()\n",
    "plotVarAll(\"jet_prob\", 0,0.04,100,logy=True)\n",
    "plt.show()\n",
    "plotVarAll(\"jet_width_eta\", 0,0.4,100,logy=True)\n",
    "plt.show()\n",
    "plotVarAll(\"jet_width_phi\",0,0.4,100,logy=True)"
   ]
  },
  {
   "cell_type": "code",
   "execution_count": 18,
   "metadata": {},
   "outputs": [
    {
     "data": {
      "image/png": "[encoded data removed]",
      "text/plain": [
       "<Figure size 432x288 with 1 Axes>"
      ]
     },
     "metadata": {
      "needs_background": "light"
     },
     "output_type": "display_data"
    },
    {
     "data": {
      "image/png": "[encoded data removed]",
      "text/plain": [
       "<Figure size 432x288 with 1 Axes>"
      ]
     },
     "metadata": {
      "needs_background": "light"
     },
     "output_type": "display_data"
    },
    {
     "data": {
      "image/png": "[encoded data removed]",
      "text/plain": [
       "<Figure size 432x288 with 1 Axes>"
      ]
     },
     "metadata": {
      "needs_background": "light"
     },
     "output_type": "display_data"
    },
    {
     "data": {
      "image/png": "[encoded data removed]",
      "text/plain": [
       "<Figure size 432x288 with 1 Axes>"
      ]
     },
     "metadata": {
      "needs_background": "light"
     },
     "output_type": "display_data"
    },
    {
     "data": {
      "image/png": "[encoded data removed]",
      "text/plain": [
       "<Figure size 432x288 with 1 Axes>"
      ]
     },
     "metadata": {
      "needs_background": "light"
     },
     "output_type": "display_data"
    },
    {
     "data": {
      "image/png": "[encoded data removed]",
      "text/plain": [
       "<Figure size 432x288 with 1 Axes>"
      ]
     },
     "metadata": {
      "needs_background": "light"
     },
     "output_type": "display_data"
    }
   ],
   "source": [
    "plotVarAll(\"vertex_significance\",0,5.0,100,logy=True)\n",
    "plt.show()\n",
    "plotVarAll(\"n_secondary_vertices\",0,10.0,10,logy=True)\n",
    "plt.show()\n",
    "plotVarAll(\"n_secondary_vertex_tracks\",0,10.0,10,logy=True)\n",
    "plt.show()\n",
    "plotVarAll(\"delta_r_vertex\", 0,7,100,logy=True)\n",
    "plt.show()\n",
    "plotVarAll(\"vertex_mass\", 0,25,100,logy=True)\n",
    "plt.show()\n",
    "plotVarAll(\"vertex_energy_fraction\",0,5.0,100,logy=True)"
   ]
  },
  {
   "cell_type": "markdown",
   "metadata": {},
   "source": [
    "# Plot the smearing"
   ]
  },
  {
   "cell_type": "code",
   "execution_count": 19,
   "metadata": {},
   "outputs": [],
   "source": [
    "def plotVarVsData(bMC,bData,lMC,lData,xLow,xHigh,nBins,logy=False,norm=True):\n",
    "    if norm:\n",
    "        normHist(bMC,  bins=np.linspace(xLow,xHigh,nBins),color=\"r\",histtype='step',linestyle=\"-\")\n",
    "        normHist(bData,bins=np.linspace(xLow,xHigh,nBins),color=\"r\",histtype='step',linestyle=\":\")        \n",
    "        normHist(lMC,  bins=np.linspace(xLow,xHigh,nBins),color=\"k\",histtype='step',linestyle=\"-\")\n",
    "        normHist(lData,bins=np.linspace(xLow,xHigh,nBins),color=\"k\",histtype='step',linestyle=\":\")                \n",
    "\n",
    "    else:\n",
    "        plt.hist(vData,bins=np.linspace(xLow,xHigh,nBins),color=\"r\",histtype='step')\n",
    "        plt.hist(dData,bins=np.linspace(xLow,xHigh,nBins),color=\"k\",histtype='step')\n",
    "    if logy: plt.yscale('log') "
   ]
  },
  {
   "cell_type": "code",
   "execution_count": 20,
   "metadata": {},
   "outputs": [],
   "source": [
    "def plotVsData(varName,xLow,xHigh,nBins,logy=False):\n",
    "    plotVarVsData(bJets[varName],\n",
    "                  bJets[varName+\"_data\"],\n",
    "                  lJets[varName],\n",
    "                  lJets[varName+\"_data\"],\n",
    "                  xLow,xHigh,nBins,logy=logy)"
   ]
  },
  {
   "cell_type": "code",
   "execution_count": 21,
   "metadata": {},
   "outputs": [
    {
     "data": {
      "image/png": "[encoded data removed]",
      "text/plain": [
       "<Figure size 432x288 with 1 Axes>"
      ]
     },
     "metadata": {
      "needs_background": "light"
     },
     "output_type": "display_data"
    },
    {
     "data": {
      "image/png": "[encoded data removed]",
      "text/plain": [
       "<Figure size 432x288 with 1 Axes>"
      ]
     },
     "metadata": {
      "needs_background": "light"
     },
     "output_type": "display_data"
    },
    {
     "data": {
      "image/png": "[encoded data removed]",
      "text/plain": [
       "<Figure size 432x288 with 1 Axes>"
      ]
     },
     "metadata": {
      "needs_background": "light"
     },
     "output_type": "display_data"
    },
    {
     "data": {
      "image/png": "[encoded data removed]",
      "text/plain": [
       "<Figure size 432x288 with 1 Axes>"
      ]
     },
     "metadata": {
      "needs_background": "light"
     },
     "output_type": "display_data"
    },
    {
     "data": {
      "image/png": "[encoded data removed]",
      "text/plain": [
       "<Figure size 432x288 with 1 Axes>"
      ]
     },
     "metadata": {
      "needs_background": "light"
     },
     "output_type": "display_data"
    },
    {
     "data": {
      "image/png": "[encoded data removed]",
      "text/plain": [
       "<Figure size 432x288 with 1 Axes>"
      ]
     },
     "metadata": {
      "needs_background": "light"
     },
     "output_type": "display_data"
    }
   ],
   "source": [
    "plotVsData(\"track_2_d0_significance\",0,2.5,100,logy=False)\n",
    "plt.show()\n",
    "plotVsData(\"track_3_d0_significance\",0,5.0,100,logy=False)\n",
    "plt.show()\n",
    "plotVsData(\"track_2_z0_significance\",0,5.0,100,logy=True)\n",
    "plt.show()\n",
    "plotVsData(\"track_3_z0_significance\",0,5.0,100,logy=True)\n",
    "plt.show()\n",
    "plotVsData(\"jet_width_eta\", 0,0.4,100,logy=True)\n",
    "plt.show()\n",
    "plotVsData(\"jet_width_phi\",0,0.4,100,logy=True)"
   ]
  },
  {
   "cell_type": "code",
   "execution_count": null,
   "metadata": {},
   "outputs": [],
   "source": []
  }
 ],
 "metadata": {
  "kernelspec": {
   "display_name": "Python 3",
   "language": "python",
   "name": "python3"
  },
  "language_info": {
   "codemirror_mode": {
    "name": "ipython",
    "version": 3
   },
   "file_extension": ".py",
   "mimetype": "text/x-python",
   "name": "python",
   "nbconvert_exporter": "python",
   "pygments_lexer": "ipython3",
   "version": "3.9.1"
  }
 },
 "nbformat": 4,
 "nbformat_minor": 4
}
