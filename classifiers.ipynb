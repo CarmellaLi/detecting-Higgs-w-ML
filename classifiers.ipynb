{
 "cells": [
  {
   "cell_type": "code",
   "execution_count": 184,
   "metadata": {},
   "outputs": [],
   "source": [
    "import numpy as np\n",
    "import matplotlib.pyplot as plt\n",
    "import copy\n",
    "from numpy import trapz"
   ]
  },
  {
   "attachments": {},
   "cell_type": "markdown",
   "metadata": {},
   "source": [
    "Generate Data ⬇️"
   ]
  },
  {
   "cell_type": "code",
   "execution_count": 165,
   "metadata": {},
   "outputs": [],
   "source": [
    "def getbJetTrack(mu = 0, sig = 0.5, decay=3, fracDecay=0.05, fracFlat=0.05):\n",
    "    r = np.random.rand()\n",
    "    if (r < fracDecay):\n",
    "        return np.random.exponential(decay)+np.random.normal(0,0.25)\n",
    "    elif (r < (fracDecay+fracFlat)):\n",
    "        return 6 * np.random.random_sample()-3 #get flat -3 to 2\n",
    "    else:\n",
    "        return np.random.normal(mu,sig) \n",
    "\n",
    "def getLFTrack(mu = 0, sig = 0.5, fracFlat=0.05):\n",
    "    r = np.random.rand()\n",
    "    if( r < fracFlat):\n",
    "        return 6 * np.random.random_sample()-3\n",
    "    else:        \n",
    "        return np.random.normal(mu,sig)\n",
    "\n",
    "def getbJetData(NumData, fracDecay=0.05): #get list of NumData number of elements. \n",
    "    DataSet=[]\n",
    "    for i in range (NumData):\n",
    "        n = np.random.poisson(4)\n",
    "        tracks=[]\n",
    "        for j in range (n):\n",
    "            tracks.append(getbJetTrack(fracDecay=fracDecay))\n",
    "        DataSet.append(tracks)\n",
    "    return DataSet\n",
    "\n",
    "def getLFJetData(NumData): # get list of NumData number of elements\n",
    "    DataSet=[]\n",
    "    for i in range (NumData):\n",
    "        n = np.random.poisson(2)\n",
    "        tracks=[]\n",
    "        for j in range (n):\n",
    "            tracks.append(getLFTrack())\n",
    "        DataSet.append(tracks)\n",
    "    return DataSet"
   ]
  },
  {
   "attachments": {},
   "cell_type": "markdown",
   "metadata": {},
   "source": [
    "KNN ⬇️"
   ]
  },
  {
   "cell_type": "code",
   "execution_count": 166,
   "metadata": {},
   "outputs": [],
   "source": [
    "def DataSameLen(listOfLists): # add 0 to the end of stort list elements\n",
    "    maxLen=0\n",
    "    for i in listOfLists:\n",
    "        if len(i)>maxLen:\n",
    "            maxLen=len(i)\n",
    "    for i in listOfLists:\n",
    "        if len(i)<maxLen:\n",
    "            while(len(i)<maxLen):\n",
    "                i.append(0)\n",
    "    return listOfLists\n",
    "\n",
    "def getData(NumData): #combines B jet data and LF jet data, NumData: number of data in each, adds indicator at the front\n",
    "    bj=getbJetData(NumData) #only train uses this\n",
    "    j=0\n",
    "    for i in bj:\n",
    "        bj[j] = [True] + i\n",
    "        j+=1\n",
    "    lfj=getLFJetData(NumData)\n",
    "    k=0\n",
    "    for i in lfj:\n",
    "        lfj[k] = [False] + i\n",
    "        k+=1\n",
    "    for j in lfj:\n",
    "        bj.append(j)\n",
    "    return bj\n",
    "\n",
    "def dist(elem_train, elem_test): \n",
    "    d=0.0\n",
    "    for i in range(1, len(elem_train)):\n",
    "        d+=(elem_train[i]-elem_test[i-1])**2\n",
    "    return np.sqrt(d)\n",
    "\n",
    "def getNbors(train, elem_test, k):\n",
    "    distance=[]\n",
    "    for elem in train:\n",
    "        distance.append([elem,dist(elem,elem_test)])\n",
    "    distance.sort(key = lambda ls : ls[1])\n",
    "    nbors=[]\n",
    "    for i in range(k):\n",
    "        nbors.append(distance[i][0])\n",
    "    return nbors\n",
    "\n",
    "def BjetProb(train, elem_test, k):\n",
    "    neigbors=getNbors(train,elem_test,k)\n",
    "    numTrue=0\n",
    "    for i in neigbors:\n",
    "        if (i[0]==True):\n",
    "            numTrue+=1\n",
    "    return float(numTrue)/float(len(neigbors))"
   ]
  },
  {
   "attachments": {},
   "cell_type": "markdown",
   "metadata": {},
   "source": [
    "# Plot the Data"
   ]
  },
  {
   "cell_type": "code",
   "execution_count": 167,
   "metadata": {},
   "outputs": [],
   "source": [
    "def flatten(inData): \n",
    "    dataFlat = np.array([])\n",
    "    for jet in inData:\n",
    "        dataFlat = np.append(dataFlat,jet)\n",
    "    return dataFlat"
   ]
  },
  {
   "cell_type": "code",
   "execution_count": 168,
   "metadata": {},
   "outputs": [
    {
     "name": "stdout",
     "output_type": "stream",
     "text": [
      "198984 vs 100032\n"
     ]
    }
   ],
   "source": [
    "nEvents = 50000\n",
    "\n",
    "bj=getbJetData(nEvents, fracDecay=0.2) #only train uses this\n",
    "bjFlat = flatten(bj)\n",
    "\n",
    "lf=getLFJetData(nEvents)\n",
    "lfFlat = flatten(lf)\n",
    "\n",
    "print(f\"{len(bjFlat)} vs {len(lfFlat)}\")"
   ]
  },
  {
   "cell_type": "code",
   "execution_count": 169,
   "metadata": {},
   "outputs": [
    {
     "name": "stdout",
     "output_type": "stream",
     "text": [
      "[-3.         -2.93939394 -2.87878788 -2.81818182 -2.75757576 -2.6969697\n",
      " -2.63636364 -2.57575758 -2.51515152 -2.45454545 -2.39393939 -2.33333333\n",
      " -2.27272727 -2.21212121 -2.15151515 -2.09090909 -2.03030303 -1.96969697\n",
      " -1.90909091 -1.84848485 -1.78787879 -1.72727273 -1.66666667 -1.60606061\n",
      " -1.54545455 -1.48484848 -1.42424242 -1.36363636 -1.3030303  -1.24242424\n",
      " -1.18181818 -1.12121212 -1.06060606 -1.         -0.93939394 -0.87878788\n",
      " -0.81818182 -0.75757576 -0.6969697  -0.63636364 -0.57575758 -0.51515152\n",
      " -0.45454545 -0.39393939 -0.33333333 -0.27272727 -0.21212121 -0.15151515\n",
      " -0.09090909 -0.03030303  0.03030303  0.09090909  0.15151515  0.21212121\n",
      "  0.27272727  0.33333333  0.39393939  0.45454545  0.51515152  0.57575758\n",
      "  0.63636364  0.6969697   0.75757576  0.81818182  0.87878788  0.93939394\n",
      "  1.          1.06060606  1.12121212  1.18181818  1.24242424  1.3030303\n",
      "  1.36363636  1.42424242  1.48484848  1.54545455  1.60606061  1.66666667\n",
      "  1.72727273  1.78787879  1.84848485  1.90909091  1.96969697  2.03030303\n",
      "  2.09090909  2.15151515  2.21212121  2.27272727  2.33333333  2.39393939\n",
      "  2.45454545  2.51515152  2.57575758  2.63636364  2.6969697   2.75757576\n",
      "  2.81818182  2.87878788  2.93939394  3.        ]\n"
     ]
    },
    {
     "data": {
      "image/png": "[encoded data removed]",
      "text/plain": [
       "<Figure size 640x480 with 1 Axes>"
      ]
     },
     "metadata": {},
     "output_type": "display_data"
    }
   ],
   "source": [
    "bins = np.linspace(-3,3,100)\n",
    "#c1, b1, p1 = plt.hist(bjFlat,bins=bins,density=True)\n",
    "#c2, b2, p2 = plt.hist(lfFlat,bins=bins,histtype=\"step\", density=True)\n",
    "TrainHistCounts, TrainHistBins, patch = plt.hist([bjFlat,lfFlat],bins=bins,density=True)\n",
    "#plt.yscale(\"log\")\n",
    "print(TrainHistBins)\n",
    "plt.show()"
   ]
  },
  {
   "attachments": {},
   "cell_type": "markdown",
   "metadata": {},
   "source": [
    "plot ROC"
   ]
  },
  {
   "cell_type": "code",
   "execution_count": 240,
   "metadata": {},
   "outputs": [],
   "source": [
    "def pltROCnAUC(counts, bins, label): \n",
    "    x=[]\n",
    "    y=[]\n",
    "    for i in range(len(counts[0])):\n",
    "        p = 0\n",
    "        n = 0\n",
    "        for j in range(i,len(counts[0])):\n",
    "            p = p + counts[0][j]*(bins[j+1]-bins[j])\n",
    "            n = n + counts[1][j]*(bins[j+1]-bins[j])\n",
    "        x.append(p)\n",
    "        y.append(n)\n",
    "    AUC=trapz(x,y)\n",
    "    plt.plot(y,x,label=label)\n",
    "    plt.legend()\n",
    "    return AUC"
   ]
  },
  {
   "cell_type": "code",
   "execution_count": 171,
   "metadata": {},
   "outputs": [],
   "source": [
    "#getting data\n",
    "n=1000\n",
    "train = getData(n)\n",
    "bj_test=getbJetData(n,fracDecay=0.2)\n",
    "lf_test=getLFJetData(n)"
   ]
  },
  {
   "cell_type": "code",
   "execution_count": 172,
   "metadata": {},
   "outputs": [
    {
     "data": {
      "image/png": "[encoded data removed]",
      "text/plain": [
       "<Figure size 640x480 with 1 Axes>"
      ]
     },
     "metadata": {},
     "output_type": "display_data"
    }
   ],
   "source": [
    "#KNN\n",
    "train1=copy.deepcopy(train)\n",
    "DataSameLen(train1)\n",
    "bj_test1 = copy.deepcopy(bj_test)\n",
    "DataSameLen(bj_test1)\n",
    "lf_test1 = copy.deepcopy(lf_test)\n",
    "DataSameLen(lf_test1)\n",
    "\n",
    "if (len(bj_test1[0])<len(train1[0])-1):\n",
    "    for i in bj_test1:\n",
    "        while(len(i)<len(train1[0])-1):\n",
    "            i.append(0)\n",
    "if (len(lf_test1[0])<len(train1[0])-1):\n",
    "    for i in lf_test1:\n",
    "        while(len(i)<len(train1[0])-1):\n",
    "            i.append(0)\n",
    "\n",
    "b_prob=[]\n",
    "lf_prob=[]\n",
    "for i in bj_test1:\n",
    "    b_prob.append(BjetProb(train1,i,100))\n",
    "for i in lf_test1:\n",
    "    lf_prob.append(BjetProb(train1,i,100))\n",
    "counts, bins, patches= plt.hist([b_prob,lf_prob], bins=25, density=True)"
   ]
  },
  {
   "cell_type": "code",
   "execution_count": 173,
   "metadata": {},
   "outputs": [],
   "source": [
    "def trim(floatListList, N):\n",
    "    res=[]\n",
    "    falseNum=0\n",
    "    for i in floatListList:\n",
    "        if len(i)<N:\n",
    "            floatListList.remove(i)\n",
    "            falseNum=falseNum+1\n",
    "        else:\n",
    "            mx=[]\n",
    "            for j in range(N):\n",
    "                mx.append(np.max(i))\n",
    "                i.remove(np.max(i))\n",
    "            res.append(mx)\n",
    "    return res, falseNum  \n",
    "\n",
    "def trimTrain(floatListList, N):\n",
    "    res=[]\n",
    "    for i in floatListList:\n",
    "        ind = i[0]\n",
    "        i.pop(0)\n",
    "        if len(i)<N:\n",
    "            floatListList.remove(i)\n",
    "        else:\n",
    "            mx=[]\n",
    "            mx.append(ind)\n",
    "            for j in range(N):\n",
    "                mx.append(np.max(i))\n",
    "                i.remove(np.max(i))\n",
    "            res.append(mx)\n",
    "    return res       "
   ]
  },
  {
   "cell_type": "code",
   "execution_count": 174,
   "metadata": {},
   "outputs": [
    {
     "data": {
      "image/png": "[encoded data removed]",
      "text/plain": [
       "<Figure size 640x480 with 1 Axes>"
      ]
     },
     "metadata": {},
     "output_type": "display_data"
    }
   ],
   "source": [
    "#2d-KNN\n",
    "train2=copy.deepcopy(train)\n",
    "train2=trimTrain(train2,2)\n",
    "\n",
    "bj_test2=copy.deepcopy(bj_test)\n",
    "lf_test2=copy.deepcopy(lf_test)\n",
    "bj_test2, bj_fn = trim(bj_test2,2)\n",
    "lf_test2, lf_fn = trim(lf_test2,2)\n",
    "\n",
    "b_prob2=[]\n",
    "lf_prob2=[]\n",
    "for i in bj_test2:\n",
    "    b_prob2.append(BjetProb(train2,i,100))\n",
    "for i in range(bj_fn):\n",
    "    b_prob2.append(0)\n",
    "for i in lf_test2:\n",
    "    lf_prob2.append(BjetProb(train2,i,100))\n",
    "for i in range(lf_fn):\n",
    "    lf_prob2.append(0)\n",
    "counts2, bins2, patches2 = plt.hist([b_prob2,lf_prob2], bins=25, density=True)"
   ]
  },
  {
   "cell_type": "code",
   "execution_count": 178,
   "metadata": {},
   "outputs": [
    {
     "data": {
      "image/png": "[encoded data removed]",
      "text/plain": [
       "<Figure size 640x480 with 1 Axes>"
      ]
     },
     "metadata": {},
     "output_type": "display_data"
    }
   ],
   "source": [
    "#likelyhood #This uses the histogram for d0\n",
    "def probInHist(d0, counts, bins): #counts is list of lists\n",
    "    x=len(bins)-2\n",
    "    for i in range(len(bins)):  #linear search :(\n",
    "        if d0 < bins[i]:\n",
    "            x=i-1\n",
    "            break\n",
    "    p=counts[0][x]/(counts[0][x]+counts[1][x])\n",
    "    return p\n",
    "\n",
    "\n",
    "def likelyhood(test, train_hist_counts, train_hist_bins):\n",
    "    p=[]\n",
    "    for i in test:\n",
    "        pi=1\n",
    "        for j in i:\n",
    "            pi = pi*probInHist(j,train_hist_counts, train_hist_bins)\n",
    "        p.append(pi)\n",
    "    return p\n",
    "\n",
    "bj_test3=copy.deepcopy(bj_test2) # want to use the \"trimmed\" data ???????\n",
    "lf_test3=copy.deepcopy(lf_test2)\n",
    "\n",
    "bj_p3=likelyhood(bj_test3,TrainHistCounts,TrainHistBins)\n",
    "lf_p3=likelyhood(lf_test3,TrainHistCounts,TrainHistBins)\n",
    "\n",
    "for i in range(bj_fn):\n",
    "    bj_p3.append(0)\n",
    "for i in range(lf_fn):\n",
    "    lf_p3.append(0)\n",
    "\n",
    "counts3, bins3, patches3 = plt.hist([bj_p3,lf_p3], bins=25, density=True)"
   ]
  },
  {
   "cell_type": "code",
   "execution_count": 180,
   "metadata": {},
   "outputs": [
    {
     "data": {
      "image/png": "[encoded data removed]",
      "text/plain": [
       "<Figure size 640x480 with 1 Axes>"
      ]
     },
     "metadata": {},
     "output_type": "display_data"
    }
   ],
   "source": [
    "#POISSSON likelyhood\n",
    "def Poissonlikelyhood(test, train_hist_counts, train_hist_bins):\n",
    "    p=[]\n",
    "    for i in test:\n",
    "        pi=len(i)\n",
    "        for j in i:\n",
    "            pi = pi*probInHist(j,train_hist_counts, train_hist_bins)\n",
    "        p.append(pi)\n",
    "    return p\n",
    "\n",
    "bj_test4=copy.deepcopy(bj_test) # want to use the \"trimmed\" data ???????\n",
    "lf_test4=copy.deepcopy(lf_test)\n",
    "\n",
    "bj_p4=likelyhood(bj_test4,TrainHistCounts,TrainHistBins)\n",
    "lf_p4=likelyhood(lf_test4,TrainHistCounts,TrainHistBins)\n",
    "counts4, bins4, patches4 = plt.hist([bj_p4,lf_p4], bins=25, density=True)"
   ]
  },
  {
   "cell_type": "code",
   "execution_count": 241,
   "metadata": {},
   "outputs": [
    {
     "name": "stdout",
     "output_type": "stream",
     "text": [
      "AUC of knn: 0.7987135000000001\n",
      "AUC of 2d knn: 0.8088252635189876\n",
      "AUC of likelyhood: 0.800693426688658\n"
     ]
    },
    {
     "data": {
      "image/png": "[encoded data removed]",
      "text/plain": [
       "<Figure size 640x480 with 1 Axes>"
      ]
     },
     "metadata": {},
     "output_type": "display_data"
    }
   ],
   "source": [
    "area1 = pltROCnAUC(counts, bins, \"knn\")\n",
    "area2 = pltROCnAUC(counts2, bins2, \"2d knn\")\n",
    "area3 = pltROCnAUC(counts3, bins3, \"likelyhood\")\n",
    "#roc4, area4 = pltROCnAUC(counts4, bins4)\n",
    "\n",
    "print(\"AUC of knn:\",-area1)\n",
    "print(\"AUC of 2d knn:\",-area2)\n",
    "print(\"AUC of likelyhood:\",-area3)\n",
    "#print(area4)"
   ]
  }
 ],
 "metadata": {
  "kernelspec": {
   "display_name": "Python 3",
   "language": "python",
   "name": "python3"
  },
  "language_info": {
   "codemirror_mode": {
    "name": "ipython",
    "version": 3
   },
   "file_extension": ".py",
   "mimetype": "text/x-python",
   "name": "python",
   "nbconvert_exporter": "python",
   "pygments_lexer": "ipython3",
   "version": "3.8.9"
  }
 },
 "nbformat": 4,
 "nbformat_minor": 2
}
