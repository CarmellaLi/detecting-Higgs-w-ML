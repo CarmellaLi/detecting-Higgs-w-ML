{
 "cells": [
  {
   "cell_type": "code",
   "execution_count": 182,
   "metadata": {},
   "outputs": [],
   "source": [
    "import numpy as np\n",
    "import matplotlib.pyplot as plt"
   ]
  },
  {
   "cell_type": "code",
   "execution_count": 183,
   "metadata": {},
   "outputs": [],
   "source": [
    "def getbJetTrack(mu = 0, sig = 0.5, decay=3, fracDecay=0.05, fracFlat=0.05):\n",
    "    r = np.random.rand()\n",
    "    if (r < fracDecay):\n",
    "        return np.random.exponential(decay)+np.random.normal(0,0.25)\n",
    "    elif (r < (fracDecay+fracFlat)):\n",
    "        return 6 * np.random.random_sample()-3 #get flat -3 to 2\n",
    "    else:\n",
    "        return np.random.normal(mu,sig)        "
   ]
  },
  {
   "cell_type": "code",
   "execution_count": 184,
   "metadata": {},
   "outputs": [],
   "source": [
    "def getLFTrack(mu = 0, sig = 0.5, fracFlat=0.05):\n",
    "    r = np.random.rand()\n",
    "    if( r < fracFlat):\n",
    "        return 6 * np.random.random_sample()-3\n",
    "    else:        \n",
    "        return np.random.normal(mu,sig)\n"
   ]
  },
  {
   "cell_type": "code",
   "execution_count": 185,
   "metadata": {},
   "outputs": [],
   "source": [
    "def getbJetData(NumData, fracDecay=0.05): #get list of NumData number of elements. \n",
    "    DataSet=[]\n",
    "    for i in range (NumData):\n",
    "        n = np.random.poisson(4)\n",
    "        tracks=[]\n",
    "        for j in range (n):\n",
    "            tracks.append(getbJetTrack(fracDecay=fracDecay))\n",
    "        DataSet.append(tracks)\n",
    "    return DataSet"
   ]
  },
  {
   "cell_type": "code",
   "execution_count": 186,
   "metadata": {},
   "outputs": [],
   "source": [
    "def getLFJetData(NumData): # get list of NumData number of elements\n",
    "    DataSet=[]\n",
    "    for i in range (NumData):\n",
    "        n = np.random.poisson(2)\n",
    "        tracks=[]\n",
    "        for j in range (n):\n",
    "            tracks.append(getLFTrack())\n",
    "        DataSet.append(tracks)\n",
    "    return DataSet"
   ]
  },
  {
   "cell_type": "code",
   "execution_count": 187,
   "metadata": {},
   "outputs": [],
   "source": [
    "def DataSameLen(listOfLists): # add 0 to the end of stort list elements\n",
    "    maxLen=0\n",
    "    for i in listOfLists:\n",
    "        if len(i)>maxLen:\n",
    "            maxLen=len(i)\n",
    "    for i in listOfLists:\n",
    "        if len(i)<maxLen:\n",
    "            while(len(i)<maxLen):\n",
    "                i.append(0)\n",
    "    return listOfLists\n"
   ]
  },
  {
   "cell_type": "code",
   "execution_count": 188,
   "metadata": {},
   "outputs": [],
   "source": [
    "def getData(NumData): #combines B jet data and LF jet data, NumData: number of data in each, adds indicator at the front\n",
    "    bj=getbJetData(NumData) #only train uses this\n",
    "    j=0\n",
    "    for i in bj:\n",
    "        bj[j] = [True] + i\n",
    "        j+=1\n",
    "    lfj=getLFJetData(NumData)\n",
    "    k=0\n",
    "    for i in lfj:\n",
    "        lfj[k] = [False] + i\n",
    "        k+=1\n",
    "    for j in lfj:\n",
    "        bj.append(j)\n",
    "    return DataSameLen(bj)"
   ]
  },
  {
   "cell_type": "code",
   "execution_count": 189,
   "metadata": {},
   "outputs": [],
   "source": [
    "def dist(elem_train, elem_test): \n",
    "    d=0.0\n",
    "    for i in range(1, len(elem_train)):\n",
    "        d+=(elem_train[i]-elem_test[i-1])**2\n",
    "    return np.sqrt(d)\n",
    "\n",
    "def getNbors(train, elem_test, k):\n",
    "    distance=[]\n",
    "    for elem in train:\n",
    "        distance.append([elem,dist(elem,elem_test)])\n",
    "    distance.sort(key = lambda ls : ls[1])\n",
    "    nbors=[]\n",
    "    for i in range(k):\n",
    "        nbors.append(distance[i][0])\n",
    "    return nbors\n",
    "\n",
    "def BjetProb(train, elem_test, k):\n",
    "    neigbors=getNbors(train,elem_test,k)\n",
    "    numTrue=0\n",
    "    for i in neigbors:\n",
    "        if (i[0]==True):\n",
    "            numTrue+=1\n",
    "    return float(numTrue)/float(len(neigbors))"
   ]
  },
  {
   "cell_type": "markdown",
   "metadata": {},
   "source": [
    "# Plot the Data"
   ]
  },
  {
   "cell_type": "code",
   "execution_count": 190,
   "metadata": {},
   "outputs": [],
   "source": [
    "def flatten(inData): \n",
    "    dataFlat = np.array([])\n",
    "    for jet in inData:\n",
    "        dataFlat = np.append(dataFlat,jet)\n",
    "    return dataFlat"
   ]
  },
  {
   "cell_type": "code",
   "execution_count": 191,
   "metadata": {},
   "outputs": [
    {
     "name": "stdout",
     "output_type": "stream",
     "text": [
      "40090 vs 19955\n"
     ]
    }
   ],
   "source": [
    "nEvents = 10000\n",
    "\n",
    "bj=getbJetData(nEvents, fracDecay=0.2) #only train uses this\n",
    "bjFlat = flatten(bj)\n",
    "\n",
    "lf=getLFJetData(nEvents)\n",
    "lfFlat = flatten(lf)\n",
    "\n",
    "print(f\"{len(bjFlat)} vs {len(lfFlat)}\")"
   ]
  },
  {
   "cell_type": "code",
   "execution_count": 192,
   "metadata": {},
   "outputs": [
    {
     "data": {
      "image/png": "[encoded data removed]",
      "text/plain": [
       "<Figure size 640x480 with 1 Axes>"
      ]
     },
     "metadata": {},
     "output_type": "display_data"
    }
   ],
   "source": [
    "bins = np.linspace(-3,3,100)\n",
    "plt.hist(bjFlat,bins=bins)\n",
    "plt.hist(lfFlat,bins=bins,histtype=\"step\")\n",
    "\n",
    "plt.yscale(\"log\")\n",
    "plt.show()"
   ]
  },
  {
   "cell_type": "code",
   "execution_count": 193,
   "metadata": {},
   "outputs": [],
   "source": [
    "n=1000\n",
    "train = getData(n)\n",
    "bj_test=getbJetData(n)\n",
    "lf_test=getLFJetData(n)\n",
    "DataSameLen(bj_test)\n",
    "DataSameLen(lf_test)\n",
    "\n",
    "if (len(bj_test[0])<len(train[0])-1):\n",
    "    for i in bj_test:\n",
    "        while(len(i)<len(train[0])-1):\n",
    "            i.append(0)\n",
    "if (len(lf_test[0])<len(train[0])-1):\n",
    "    for i in lf_test:\n",
    "        while(len(i)<len(train[0])-1):\n",
    "            i.append(0)\n",
    "#print(test)\n",
    "b_prob=[]\n",
    "lf_prob=[]\n",
    "for i in bj_test:\n",
    "    b_prob.append(BjetProb(train,i,100))\n",
    "for i in lf_test:\n",
    "    lf_prob.append(BjetProb(train,i,100))"
   ]
  },
  {
   "cell_type": "code",
   "execution_count": 194,
   "metadata": {},
   "outputs": [
    {
     "data": {
      "text/plain": [
       "(array([143.,  12.,  59.,  84.,  95.,  63.,  50.,  72.,  65.,  64.,  47.,\n",
       "         36.,  38.,  43.,  41.,  32.,  19.,  17.,   8.,   2.,   5.,   2.,\n",
       "          2.,   0.,   1.]),\n",
       " array([0.11  , 0.1392, 0.1684, 0.1976, 0.2268, 0.256 , 0.2852, 0.3144,\n",
       "        0.3436, 0.3728, 0.402 , 0.4312, 0.4604, 0.4896, 0.5188, 0.548 ,\n",
       "        0.5772, 0.6064, 0.6356, 0.6648, 0.694 , 0.7232, 0.7524, 0.7816,\n",
       "        0.8108, 0.84  ]),\n",
       " [<matplotlib.patches.Polygon at 0x118391460>])"
      ]
     },
     "execution_count": 194,
     "metadata": {},
     "output_type": "execute_result"
    },
    {
     "data": {
      "image/png": "[encoded data removed]",
      "text/plain": [
       "<Figure size 640x480 with 1 Axes>"
      ]
     },
     "metadata": {},
     "output_type": "display_data"
    }
   ],
   "source": [
    "plt.hist(b_prob, bins=25)\n",
    "plt.hist(lf_prob, bins=25, histtype=\"step\")"
   ]
  }
 ],
 "metadata": {
  "kernelspec": {
   "display_name": "Python 3",
   "language": "python",
   "name": "python3"
  },
  "language_info": {
   "codemirror_mode": {
    "name": "ipython",
    "version": 3
   },
   "file_extension": ".py",
   "mimetype": "text/x-python",
   "name": "python",
   "nbconvert_exporter": "python",
   "pygments_lexer": "ipython3",
   "version": "3.8.9"
  }
 },
 "nbformat": 4,
 "nbformat_minor": 2
}
